{
  "nbformat": 4,
  "nbformat_minor": 0,
  "metadata": {
    "colab": {
      "provenance": []
    },
    "kernelspec": {
      "name": "python3",
      "display_name": "Python 3"
    },
    "language_info": {
      "name": "python"
    }
  },
  "cells": [
    {
      "cell_type": "code",
      "execution_count": null,
      "metadata": {
        "id": "fV13fALqdCIv"
      },
      "outputs": [],
      "source": [
        "from nltk.chat.util import Chat, reflections"
      ]
    },
    {
      "cell_type": "code",
      "source": [
        "#Pairs is a list of patterns and responses.\n",
        "pairs = [\n",
        "    [\n",
        "        r\"(.*)my name is (.*)\",\n",
        "        [\"Hello %2, How are you today ?\",]\n",
        "    ],\n",
        "     [\n",
        "        r\"(.*) your name ?\",\n",
        "        [\"My name is TravelBot.\",]\n",
        "    ],\n",
        "    [\n",
        "        r\"how are you (.*) ?\",\n",
        "        [\"I'm doing very well\", \"i am great !\"]\n",
        "    ],\n",
        "    [\n",
        "        r\"sorry (.*)\",\n",
        "        [\"Its alright\",\"Its OK, never mind that\",]\n",
        "    ],\n",
        "    [\n",
        "        r\"i'm (.*) (good|well|okay|ok)\",\n",
        "        [\"Nice to hear that\",\"Alright, great !\",]\n",
        "    ],\n",
        "    [\n",
        "        r\"(hi|hey|hello|hola|holla)(.*)\",\n",
        "        [\"Hello\", \"Hey there\",]\n",
        "    ],\n",
        "    [\n",
        "        r\"what (.*) want ?\",\n",
        "        [\"Make me an offer I can't refuse\",]\n",
        "\n",
        "    ],\n",
        "    [\n",
        "        r\"(.*)created(.*)\",\n",
        "        [\"Yash Menaria created me using Python's NLTK library \",\"top secret ;)\",]\n",
        "    ],\n",
        "    [\n",
        "        r\"(.*)travel(.*)Sehore|sehore to bhopal|Bhopal(.*)\",\n",
        "        [\"You can travel from Sehore to Bhopal by bus or train. The distance is approximately 40 kilometers.\"]\n",
        "    ],\n",
        "    [\n",
        "        r\"(.*)travel(.*)Sehore|sehore to indore|Indore(.*)\",\n",
        "        [\"You can travel from Sehore to Indore by bus or train. The distance is approximately 170 kilometers.\"]\n",
        "    ],\n",
        "    [\n",
        "        r\"(.*)travel(.*)Sehore|sehore to ujjain|Ujjain(.*)\",\n",
        "        [\"You can travel from Sehore to Ujjain by bus or train. The distance is approximately 200 kilometers.\"]\n",
        "    ],\n",
        "    [\n",
        "        r\"(.*)help(.*)\",\n",
        "        [\"I can help you with travel information.\",]\n",
        "    ],\n",
        "    [\n",
        "        r\"(.*)thank|Thank you | Thanks\",\n",
        "        [\"welcome It's my duty.\"]\n",
        "    ],\n",
        "    [\n",
        "        r\"(.*) your name ?\",\n",
        "        [\"My name is TravelBot, but you can just call me bot and I'm a travel assistant.\",]\n",
        "    ],\n",
        "    [\n",
        "        r\"(.*) (location|city) ?\",\n",
        "        ['I am a virtual assistant, so I exist everywhere!',]\n",
        "    ],\n",
        "    [\n",
        "        r\"quit\",\n",
        "        [\"Bye for now. Safe travels!\",\"It was nice helping you. Have a great day!\"]\n",
        "    ],\n",
        "    [\n",
        "        r\"(.*)\",\n",
        "        [\"Sorry, I am a travel assistant. I can only help you with travel-related queries.\"]\n",
        "    ],\n",
        "]"
      ],
      "metadata": {
        "id": "5psjglgzkdF3"
      },
      "execution_count": null,
      "outputs": []
    },
    {
      "cell_type": "code",
      "source": [
        "reflections = {\n",
        "    \"am\": \"are\",\n",
        "    \"was\": \"were\",\n",
        "    \"i\": \"you\",\n",
        "    \"i'd\": \"you would\",\n",
        "    \"i've\": \"you have\",\n",
        "    \"i'll\": \"you will\",\n",
        "    \"my\": \"your\",\n",
        "    \"are\": \"am\",\n",
        "    \"you've\": \"I have\",\n",
        "    \"you'll\": \"I will\",\n",
        "    \"your\": \"my\",\n",
        "    \"yours\": \"mine\",\n",
        "    \"you\": \"me\",\n",
        "    \"me\": \"you\"\n",
        "}\n"
      ],
      "metadata": {
        "id": "hSOOAeGRdECF"
      },
      "execution_count": null,
      "outputs": []
    },
    {
      "cell_type": "code",
      "source": [
        "import random\n",
        "import re\n",
        "def travel_response(user_input):\n",
        "    for pattern, responses in pairs:\n",
        "        if re.match(pattern, user_input):\n",
        "            return random.choice(responses)\n",
        "\n",
        "# Example usage:\n",
        "user_input = \"Can you help me with traveling from Sehore to Bhopal?\"\n",
        "response = travel_response(user_input)\n",
        "print(response)\n"
      ],
      "metadata": {
        "colab": {
          "base_uri": "https://localhost:8080/"
        },
        "id": "zsDU1-cndQbK",
        "outputId": "dd6c39e8-212e-4594-b6ad-2c68e01884e4"
      },
      "execution_count": null,
      "outputs": [
        {
          "output_type": "stream",
          "name": "stdout",
          "text": [
            "You can travel from Sehore to Bhopal by bus or train. The distance is approximately 40 kilometers.\n"
          ]
        }
      ]
    },
    {
      "cell_type": "code",
      "source": [
        "\n",
        "print(\"Hi, I'm TravelBot and If you like to ask \\nPlease type lowercase English language to start a conversation. Type quit to leave \")\n",
        "chat = Chat(pairs, reflections)\n",
        "chat.converse()"
      ],
      "metadata": {
        "colab": {
          "base_uri": "https://localhost:8080/"
        },
        "id": "wkPRlF-AdQPu",
        "outputId": "b7d19ef6-108a-45d2-d1b5-9f69b779ebd7"
      },
      "execution_count": null,
      "outputs": [
        {
          "output_type": "stream",
          "name": "stdout",
          "text": [
            "Hi, I'm TravelBot and If you like to ask \n",
            "Please type lowercase English language to start a conversation. Type quit to leave \n",
            ">hey\n",
            "Hey there\n",
            ">how are you?\n",
            "Sorry, I am a travel assistant. I can only help you with travel-related queries.\n",
            ">How are you?\n",
            "Sorry, I am a travel assistant. I can only help you with travel-related queries.\n",
            ">How are you ?\n",
            "I'm doing very well\n",
            ">Thanks\n",
            "welcome It's my duty.\n",
            ">sehore to bhopal\n",
            "You can travel from Sehore to Bhopal by bus or train. The distance is approximately 40 kilometers.\n",
            ">quit\n",
            "Bye for now. Safe travels!\n"
          ]
        }
      ]
    }
  ]
}